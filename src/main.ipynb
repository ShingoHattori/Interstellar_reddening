{
 "cells": [
  {
   "cell_type": "code",
   "execution_count": 1,
   "metadata": {},
   "outputs": [],
   "source": [
    "from scipy import stats\n",
    "import csv \n",
    "import sys\n",
    "import os\n",
    "sys.path.append(\"..\")\n",
    "import matplotlib.pyplot as plt\n",
    "import random\n",
    "import numpy as np\n",
    "import math\n",
    "from astropy.io import fits\n",
    "\n",
    "from functions import open_csv, separete_csv, both_array_sigma"
   ]
  },
  {
   "cell_type": "markdown",
   "metadata": {},
   "source": [
    "# パラメーターを設定する\n",
    "\n",
    "* threshold : 赤化が顕著になり始める時のr-iバンドの値(下の方にあるグラフでいう横線)\n",
    "* base_value : 赤化が発生しなければこれくらいになるであろうと想像されるg-rバンドの値(下の方にあるグラフでいう縦線)\n",
    "* interval : 分割する正方形のグリッドの大きさ(赤経赤緯)"
   ]
  },
  {
   "cell_type": "code",
   "execution_count": 2,
   "metadata": {},
   "outputs": [],
   "source": [
    "threshold = 0.5\n",
    "base_value = 0\n",
    "interval = 0.01\n",
    "fits_file_name = 'sample.fits'"
   ]
  },
  {
   "cell_type": "markdown",
   "metadata": {},
   "source": [
    "# データを開く"
   ]
  },
  {
   "cell_type": "code",
   "execution_count": null,
   "metadata": {},
   "outputs": [],
   "source": [
    "datapath = '../data/23_48_50_+21_44_00.csv'\n",
    "\n",
    "\n",
    "\n",
    "all_datas = open_csv(datapath)\n",
    "sep_datas, keys = separete_csv(all_datas)"
   ]
  },
  {
   "cell_type": "markdown",
   "metadata": {},
   "source": [
    "# データの中から必要なものを取り出す\n",
    "\n",
    "今回は，座標(RADEG,DEDEG), バンドの値(G_BAND, R_BAND, I_BAND)を取り出す"
   ]
  },
  {
   "cell_type": "code",
   "execution_count": null,
   "metadata": {},
   "outputs": [],
   "source": [
    "RAdegs = []\n",
    "DEdegs = []\n",
    "All_Bands = []\n",
    "formatted_data = []\n",
    "\n",
    "#適当な初期値\n",
    "ramin = 400\n",
    "ramax = 0\n",
    "demin = 400\n",
    "demax = 0\n",
    "\n",
    "\n",
    "\n",
    "for data in sep_datas:\n",
    "    if float(data[keys[\"RAdeg\"]]) < 180:\n",
    "        data[keys[\"RAdeg\"]] = float(data[keys[\"RAdeg\"]]) + 180\n",
    "    else:\n",
    "        data[keys[\"RAdeg\"]] = float(data[keys[\"RAdeg\"]]) - 180\n",
    "        \n",
    "    if float(data[keys[\"DEdeg\"]]) < 180:\n",
    "        data[keys[\"DEdeg\"]] = float(data[keys[\"DEdeg\"]]) + 180\n",
    "    else:\n",
    "        data[keys[\"DEdeg\"]] = float(data[keys[\"DEdeg\"]]) - 180\n",
    "    \n",
    "        \n",
    "for data in sep_datas:\n",
    "    #最大/小値を探索\n",
    "    if ramin > float(data[keys[\"RAdeg\"]]):\n",
    "        ramin = float(data[keys[\"RAdeg\"]])\n",
    "    if ramax < float(data[keys[\"RAdeg\"]]):\n",
    "        ramax = float(data[keys[\"RAdeg\"]])\n",
    "    if demin > float(data[keys[\"DEdeg\"]]):\n",
    "        demin = float(data[keys[\"DEdeg\"]])\n",
    "    if demax < float(data[keys[\"DEdeg\"]]):\n",
    "        demax = float(data[keys[\"DEdeg\"]])\n",
    "        \n",
    "    try: #どれかのデータがからになることがあるのでTryにする\n",
    "        RAdegs.append(float(data[keys[\"RAdeg\"]]))\n",
    "        DEdegs.append(float(data[keys[\"DEdeg\"]]))\n",
    "        #データが消えることがあるのでこのようにまとめておく\n",
    "        All_Bands.append([float(data[keys[\"gmag\"]]),float(data[keys[\"rmag\"]]),float(data[keys[\"imag\"]])])\n",
    "    except:\n",
    "        pass\n",
    "\n"
   ]
  },
  {
   "cell_type": "code",
   "execution_count": null,
   "metadata": {},
   "outputs": [],
   "source": [
    "ramin = math.floor(ramin) \n",
    "ramax = math.floor(ramax) + 1 #ギリギリのデータが蹴られてしまうため\n",
    "demin = math.floor(demin) \n",
    "demax = math.floor(demax) + 1 #ギリギリのデータが蹴られてしまうため\""
   ]
  },
  {
   "cell_type": "code",
   "execution_count": null,
   "metadata": {},
   "outputs": [],
   "source": [
    "print(ramin, ramax, demin, demax, sep = \"_\")"
   ]
  },
  {
   "cell_type": "markdown",
   "metadata": {},
   "source": [
    "# データの軸を入れ替える\n",
    "\n",
    "現在は，0次元目に星が入り，1次元目に3バンドの値が入っている．つまり，ある一つの星について，3バンドの値がまとめて納められている．しかし，これでは処理が大変なので転置を使って改善する．\n",
    "\n",
    "``` sample\n",
    "# 今\n",
    "[[23, 42, 21], [3, 1, 5], [2, 5, 1], [6, 1, 7]]\n",
    "\n",
    "# この処理の後\n",
    "[[23, 3, 2, 6], [42, 1, 5, 1], [21, 5, 1, 7]]\n",
    "```"
   ]
  },
  {
   "cell_type": "code",
   "execution_count": null,
   "metadata": {},
   "outputs": [],
   "source": [
    "G_Bands = []\n",
    "R_Bands = []\n",
    "I_Bands = []\n",
    "All_Bands = np.array(All_Bands).T\n",
    "G_Bands = All_Bands[0]\n",
    "R_Bands = All_Bands[1]\n",
    "I_Bands = All_Bands[2]\n",
    "R_Bands = np.array(R_Bands)\n",
    "G_Bands = np.array(G_Bands)\n",
    "I_Bands = np.array(I_Bands)"
   ]
  },
  {
   "cell_type": "markdown",
   "metadata": {},
   "source": [
    "# 外れ値処理をする前のグラフを書いてみる"
   ]
  },
  {
   "cell_type": "code",
   "execution_count": null,
   "metadata": {},
   "outputs": [],
   "source": [
    "G_R_Array = G_Bands - R_Bands\n",
    "R_I_Array = R_Bands - I_Bands\n",
    "\n",
    "plt.scatter(G_R_Array,R_I_Array, s=0.01, c = 'red',marker='x')\n",
    "plt.plot()"
   ]
  },
  {
   "cell_type": "markdown",
   "metadata": {},
   "source": [
    "# Sigma-clippingというものを使って外れ値処理をする\n",
    "\n",
    "実装についてはfunctions.pyを参考にしていただきたい．"
   ]
  },
  {
   "cell_type": "code",
   "execution_count": null,
   "metadata": {},
   "outputs": [],
   "source": [
    "Clipped_G_R_Array, Clipped_R_I_Array = both_array_sigma(G_R_Array, R_I_Array, n = 3)"
   ]
  },
  {
   "cell_type": "markdown",
   "metadata": {},
   "source": [
    "# グラフに書いてみる\n",
    "\n",
    "縦線はbase_value 横線はThreshoidです"
   ]
  },
  {
   "cell_type": "code",
   "execution_count": null,
   "metadata": {},
   "outputs": [],
   "source": [
    "plt.scatter(Clipped_G_R_Array, Clipped_R_I_Array, s=0.01, c = 'red',marker='x')\n",
    "plt.xlabel('G_R_Array')\n",
    "plt.ylabel('R_I_Array')\n",
    "plt.axvline(x=base_value, ymin=np.amin(Clipped_R_I_Array), ymax=np.amax(Clipped_R_I_Array))\n",
    "plt.axhline(y=threshold, xmin=np.amin(Clipped_G_R_Array), xmax=np.amax(Clipped_G_R_Array))\n",
    "plt.plot()"
   ]
  },
  {
   "cell_type": "markdown",
   "metadata": {},
   "source": [
    "# 条件を満たす星の座標を得る\n",
    "\n",
    "R-Iバンドの値がthresholdよりも大きい星のG-Rバンドが赤化の影響を受けるので，その星を調べる．\n",
    "上のグラフでいうと，横線より上にある星を求めています．"
   ]
  },
  {
   "cell_type": "code",
   "execution_count": 11,
   "metadata": {},
   "outputs": [],
   "source": [
    "preprocess_address = np.where(Clipped_R_I_Array > threshold)"
   ]
  },
  {
   "cell_type": "markdown",
   "metadata": {},
   "source": [
    "# 条件を満たす星のG_Rバンドの値を得る"
   ]
  },
  {
   "cell_type": "code",
   "execution_count": 12,
   "metadata": {},
   "outputs": [],
   "source": [
    "reddening_values = Clipped_G_R_Array[preprocess_address]"
   ]
  },
  {
   "cell_type": "markdown",
   "metadata": {},
   "source": [
    "# グリッドを用いた分割のためにデータを整頓する\n",
    "\n",
    "条件を満たす星の座標(赤経赤緯)を求めています．"
   ]
  },
  {
   "cell_type": "code",
   "execution_count": 13,
   "metadata": {},
   "outputs": [],
   "source": [
    "reddening_RAdegs = np.array(RAdegs)[preprocess_address]\n",
    "reddening_DEdegs = np.array(DEdegs)[preprocess_address]"
   ]
  },
  {
   "cell_type": "code",
   "execution_count": 14,
   "metadata": {},
   "outputs": [
    {
     "data": {
      "text/plain": [
       "<matplotlib.collections.PathCollection at 0x7f7ee72c8c10>"
      ]
     },
     "execution_count": 14,
     "metadata": {},
     "output_type": "execute_result"
    },
    {
     "data": {
      "image/png": "[encoded data removed]",
      "text/plain": [
       "<Figure size 432x288 with 1 Axes>"
      ]
     },
     "metadata": {
      "needs_background": "light"
     },
     "output_type": "display_data"
    }
   ],
   "source": [
    "plt.scatter(reddening_DEdegs , reddening_RAdegs )"
   ]
  },
  {
   "cell_type": "markdown",
   "metadata": {},
   "source": [
    "# データをいじる\n",
    "\n",
    "デカすぎると分割でこけるので，正規化っぽいことしてデータをまとめる．"
   ]
  },
  {
   "cell_type": "code",
   "execution_count": 15,
   "metadata": {},
   "outputs": [],
   "source": [
    "plus_reddening_RAdegs_tf = reddening_RAdegs > 180\n",
    "minus_reddening_RAdegs_tf = reddening_RAdegs < 180"
   ]
  },
  {
   "cell_type": "code",
   "execution_count": 16,
   "metadata": {},
   "outputs": [],
   "source": [
    "minus_reddening_RAdegs_velue = 1 * 180 * minus_reddening_RAdegs_tf\n",
    "plus_reddening_RAdegs_velue = -1 * 180 * plus_reddening_RAdegs_tf"
   ]
  },
  {
   "cell_type": "code",
   "execution_count": 17,
   "metadata": {},
   "outputs": [],
   "source": [
    "norm_reddening_RAdegs = reddening_RAdegs + minus_reddening_RAdegs_velue + plus_reddening_RAdegs_velue"
   ]
  },
  {
   "cell_type": "code",
   "execution_count": 18,
   "metadata": {},
   "outputs": [
    {
     "data": {
      "text/plain": [
       "<matplotlib.collections.PathCollection at 0x7fd3d96fedc0>"
      ]
     },
     "execution_count": 18,
     "metadata": {},
     "output_type": "execute_result"
    },
    {
     "data": {
      "image/png": "[encoded data removed]",
      "text/plain": [
       "<Figure size 432x288 with 1 Axes>"
      ]
     },
     "metadata": {
      "needs_background": "light"
     },
     "output_type": "display_data"
    }
   ],
   "source": [
    "plt.scatter(reddening_DEdegs , norm_reddening_RAdegs )"
   ]
  },
  {
   "cell_type": "markdown",
   "metadata": {},
   "source": [
    "# 赤化量を求める"
   ]
  },
  {
   "cell_type": "code",
   "execution_count": 15,
   "metadata": {},
   "outputs": [],
   "source": [
    "d_reddening = reddening_values - base_value"
   ]
  },
  {
   "cell_type": "markdown",
   "metadata": {},
   "source": [
    "# 分割のためにデータが全て収まるメッシュを作る"
   ]
  },
  {
   "cell_type": "code",
   "execution_count": 17,
   "metadata": {},
   "outputs": [
    {
     "name": "stdout",
     "output_type": "stream",
     "text": [
      "shape of result is 2199 * 2099\n"
     ]
    }
   ],
   "source": [
    "#RAaxis = np.arange(ramin, ramax, interval)\n",
    "RAaxis = np.arange(ramin, ramax, interval)\n",
    "DEaxis = np.arange(demin, demax, interval)\n",
    "print(\"shape of result is \" + str(len(RAaxis) - 1) +  \" * \" + str(len(DEaxis) - 1))\n"
   ]
  },
  {
   "cell_type": "markdown",
   "metadata": {},
   "source": [
    "# 分割して各グリッドの赤化の平均値を求める\n",
    "\n",
    "scipyという魔法道具を使っています．Docsに解説が書いてあります．"
   ]
  },
  {
   "cell_type": "code",
   "execution_count": 20,
   "metadata": {},
   "outputs": [],
   "source": [
    "#ret = stats.binned_statistic_2d(reddening_RAdegs, reddening_DEdegs, d_reddening , 'mean', bins=[RAaxis_grid, DEaxis_grid])\n",
    "ret = stats.binned_statistic_2d(reddening_RAdegs, reddening_DEdegs, d_reddening , 'mean', bins=[RAaxis, DEaxis])"
   ]
  },
  {
   "cell_type": "markdown",
   "metadata": {},
   "source": [
    "# Nanが混じっているので処理する"
   ]
  },
  {
   "cell_type": "code",
   "execution_count": 21,
   "metadata": {},
   "outputs": [],
   "source": [
    "result_array = np.nan_to_num(ret.statistic)"
   ]
  },
  {
   "cell_type": "markdown",
   "metadata": {},
   "source": [
    "# Fitsにエクスポートする\n",
    "\n",
    "こちらに下準備がすんだヘッダーになります．"
   ]
  },
  {
   "cell_type": "code",
   "execution_count": 22,
   "metadata": {},
   "outputs": [
    {
     "name": "stdout",
     "output_type": "stream",
     "text": [
      "Filename: (No file associated with this HDUList)\n",
      "No.    Name      Ver    Type      Cards   Dimensions   Format\n",
      "  0  PRIMARY       1 PrimaryHDU       4   ()      \n",
      "  1                1 ImageHDU         7   (2099, 2199)   float64   \n"
     ]
    }
   ],
   "source": [
    "hdr = fits.Header()\n",
    "primary_hdu = fits.PrimaryHDU(header = hdr)\n",
    "image_hdu = fits.ImageHDU(result_array)\n",
    "hdul = fits.HDUList([primary_hdu, image_hdu])\n",
    "hdul.info()"
   ]
  },
  {
   "cell_type": "markdown",
   "metadata": {},
   "source": [
    "# ヘッダーを調理していきます"
   ]
  },
  {
   "cell_type": "code",
   "execution_count": 23,
   "metadata": {},
   "outputs": [],
   "source": [
    "width = len(RAaxis) - 1\n",
    "height = len(DEaxis) - 1\n",
    "\n",
    "refx = width / 2\n",
    "refy = height / 2\n",
    "\n",
    "#これはこのcsvデータの固定値です．\n",
    "lng = 358.458333\n",
    "lat = -21.583333\n",
    "\n",
    "\n",
    "hbet = interval\n",
    "hdul[0].header['NAXIS'] = (2, 'Two dimensional image')\n",
    "hdul[0].header['Creater'] = ('08 Toru', 'Superman')\n",
    "hdul[0].header['Comment'] = 'Sourcefilename : ' + datapath\n",
    "hdul[0].header['NAXIS1'] = (width , 'Width of image')\n",
    "hdul[0].header['NAXIS2'] = (height , 'Height of image')\n",
    "hdul[0].header['CRVAL1'] = (lng , 'Reference longitude')\n",
    "hdul[0].header['CRVAL2'] = (lat , 'Reference latitude')\n",
    "hdul[0].header['CTYPE1'] = ('RA---TAN' , 'Coordinates -- projection')\n",
    "hdul[0].header['CTYPE2'] = ('DEC--TAN' , 'Coordinates -- projection')\n",
    "hdul[0].header['CRPIX1'] = (refx , 'X reference pixel')\n",
    "hdul[0].header['CRPIX2'] = (refy , 'Y reference pixel')\n",
    "hdul[0].header['CDELT1'] = (hbet , 'X scale')\n",
    "hdul[0].header['CDELT2'] = (hbet , 'Y scale')\n",
    "\n",
    "header = hdul[0]"
   ]
  },
  {
   "cell_type": "code",
   "execution_count": 24,
   "metadata": {},
   "outputs": [
    {
     "data": {
      "text/plain": [
       "SIMPLE  =                    T / conforms to FITS standard                      \n",
       "BITPIX  =                    8 / array data type                                \n",
       "NAXIS   =                    2 / Two dimensional image                          \n",
       "EXTEND  =                    T                                                  \n",
       "CREATER = '08 Toru '           / Superman                                       \n",
       "NAXIS1  =                 2199 / Width of image                                 \n",
       "NAXIS2  =                 2099 / Height of image                                \n",
       "CRVAL1  =           358.458333 / Reference longitude                            \n",
       "CRVAL2  =           -21.583333 / Reference latitude                             \n",
       "CTYPE1  = 'RA---TAN'           / Coordinates -- projection                      \n",
       "CTYPE2  = 'DEC--TAN'           / Coordinates -- projection                      \n",
       "CRPIX1  =               1099.5 / X reference pixel                              \n",
       "CRPIX2  =               1049.5 / Y reference pixel                              \n",
       "CDELT1  =                 0.01 / X scale                                        \n",
       "CDELT2  =                 0.01 / Y scale                                        \n",
       "COMMENT Sourcefilename : ../data/23_48_50_+21_44_00.csv                         "
      ]
     },
     "execution_count": 24,
     "metadata": {},
     "output_type": "execute_result"
    }
   ],
   "source": [
    "hdul[0].header"
   ]
  },
  {
   "cell_type": "code",
   "execution_count": 25,
   "metadata": {},
   "outputs": [],
   "source": [
    "if (os.path.exists(fits_file_name)):\n",
    "    print(\"file exist. please remove it or rename it\")\n",
    "else:\n",
    "    hdul.writeto(fits_file_name)"
   ]
  },
  {
   "cell_type": "code",
   "execution_count": null,
   "metadata": {},
   "outputs": [],
   "source": []
  }
 ],
 "metadata": {
  "kernelspec": {
   "display_name": "Python 3",
   "language": "python",
   "name": "python3"
  },
  "language_info": {
   "codemirror_mode": {
    "name": "ipython",
    "version": 3
   },
   "file_extension": ".py",
   "mimetype": "text/x-python",
   "name": "python",
   "nbconvert_exporter": "python",
   "pygments_lexer": "ipython3",
   "version": "3.8.5"
  }
 },
 "nbformat": 4,
 "nbformat_minor": 4
}
