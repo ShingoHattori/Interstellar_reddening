{
 "cells": [
  {
   "cell_type": "markdown",
   "metadata": {},
   "source": [
    "# binned_statistic_2dの説明\n",
    "\n",
    "Scipyには，binned_statistic_2dという関数が含まれています．この関数が大変便利でしたので，使い方を説明します．\n",
    "\n",
    "\n",
    "## ソースコード\n",
    "\n",
    "https://docs.scipy.org/doc/scipy/reference/generated/scipy.stats.binned_statistic_2d.html\n",
    "\n",
    "## 概要の和訳\n",
    "\n",
    "histgram2dの進化形．ヒストグラムはデータをビンに分割し，ビンに含まれるデータの数を返す．この関数は，総和，平均など様々な算術演算をビンに含まれるデータに対して行うことができる．\n",
    "\n",
    "# 本体\n",
    "\n",
    "binned_statistic_2d(x, y, values, statistic='mean',bins=10, range=None, expand_binnumbers=False):\n",
    "\n",
    "\n",
    "Parameters\n",
    "----------\n",
    "x : (N,) array_like\n",
    "    A sequence of values to be binned along the first dimension.\n",
    "    \n",
    "    \n",
    "y : (N,) array_like\n",
    "    A sequence of values to be binned along the second dimension.\n",
    "    \n",
    "    \n",
    "values : (N,) array_like or list of (N,) array_like\n",
    "    The data on which the statistic will be computed.  This must be\n",
    "    the same shape as `x`, or a list of sequences - each with the same\n",
    "    shape as `x`.  If `values` is such a list, the statistic will be\n",
    "    computed on each independently.\n",
    "    \n",
    "    \n",
    "statistic : string or callable, optional\n",
    "    The statistic to compute (default is 'mean').\n",
    "    The following statistics are available:\n",
    "    \n",
    "      * 'mean' : compute the mean of values for points within each bin.\n",
    "        Empty bins will be represented by NaN.\n",
    "        \n",
    "      * 'std' : compute the standard deviation within each bin. This\n",
    "        is implicitly calculated with ddof=0.\n",
    "        \n",
    "      * 'median' : compute the median of values for points within each\n",
    "        bin. Empty bins will be represented by NaN.\n",
    "        \n",
    "      * 'count' : compute the count of points within each bin.  This is\n",
    "        identical to an unweighted histogram.  `values` array is not\n",
    "        referenced.\n",
    "        \n",
    "      * 'sum' : compute the sum of values for points within each bin.\n",
    "        This is identical to a weighted histogram.\n",
    "        \n",
    "      * 'min' : compute the minimum of values for points within each bin.\n",
    "        Empty bins will be represented by NaN.\n",
    "        \n",
    "      * 'max' : compute the maximum of values for point within each bin.\n",
    "        Empty bins will be represented by NaN.\n",
    "        \n",
    "      * function : a user-defined function which takes a 1D array of\n",
    "        values, and outputs a single numerical statistic. This function\n",
    "        will be called on the values in each bin.  Empty bins will be\n",
    "        represented by function([]), or NaN if this returns an error.\n",
    "        \n",
    "bins : int or [int, int] or array_like or [array, array], optional\n",
    "    The bin specification:\n",
    "    \n",
    "      * the number of bins for the two dimensions (nx = ny = bins),\n",
    "      \n",
    "      * the number of bins in each dimension (nx, ny = bins),\n",
    "      \n",
    "      * the bin edges for the two dimensions (x_edge = y_edge = bins),\n",
    "      \n",
    "      * the bin edges in each dimension (x_edge, y_edge = bins).\n",
    "      \n",
    "    If the bin edges are specified, the number of bins will be,\n",
    "    (nx = len(x_edge)-1, ny = len(y_edge)-1).\n",
    "    \n",
    "range : (2,2) array_like, optional\n",
    "\n",
    "    The leftmost and rightmost edges of the bins along each dimension\n",
    "    (if not specified explicitly in the `bins` parameters):\n",
    "    [[xmin, xmax], [ymin, ymax]]. All values outside of this range will be\n",
    "    considered outliers and not tallied in the histogram.\n",
    "    \n",
    "expand_binnumbers : bool, optional\n",
    "\n",
    "    'False' (default): the returned `binnumber` is a shape (N,) array of\n",
    "    linearized bin indices.\n",
    "    'True': the returned `binnumber` is 'unraveled' into a shape (2,N)\n",
    "    ndarray, where each row gives the bin numbers in the corresponding\n",
    "    dimension.\n",
    "    See the `binnumber` returned value, and the `Examples` section.\n",
    "    .. versionadded:: 0.17.0\n",
    "    \n",
    "Returns\n",
    "-------\n",
    "statistic : (nx, ny) ndarray\n",
    "    The values of the selected statistic in each two-dimensional bin.\n",
    "    \n",
    "x_edge : (nx + 1) ndarray\n",
    "    The bin edges along the first dimension.\n",
    "    \n",
    "y_edge : (ny + 1) ndarray\n",
    "    The bin edges along the second dimension.\n",
    "    \n",
    "binnumber : (N,) array of ints or (2,N) ndarray of ints\n",
    "    This assigns to each element of `sample` an integer that represents the\n",
    "    bin in which this observation falls.  The representation depends on the\n",
    "    `expand_binnumbers` argument.  See `Notes` for details.\n"
   ]
  },
  {
   "cell_type": "markdown",
   "metadata": {},
   "source": [
    "# 触っていきます"
   ]
  },
  {
   "cell_type": "code",
   "execution_count": 1,
   "metadata": {},
   "outputs": [],
   "source": [
    "from scipy import stats"
   ]
  },
  {
   "cell_type": "code",
   "execution_count": 2,
   "metadata": {},
   "outputs": [
    {
     "data": {
      "text/plain": [
       "'\\n図解\\n\\n\\n    0.0  0.5  1.0\\n2.0 -|----|----| \\n2.5 -|----|----| \\n3.0 -|----|----| \\n'"
      ]
     },
     "execution_count": 2,
     "metadata": {},
     "output_type": "execute_result"
    }
   ],
   "source": [
    "#　データの存在する座標\n",
    "x = [0.1, 0.1, 0.1, 0.6]\n",
    "y = [2.1, 2.6, 2.1, 2.1]\n",
    "\n",
    "\n",
    "# データの存在する座標を分割する際のグリッドの座標\n",
    "binx = [0.0, 0.5, 1.0]\n",
    "biny = [2.0, 2.5, 3.0]\n",
    "\n",
    "'''\n",
    "図解\n",
    "\n",
    "\n",
    "    0.0  0.5  1.0\n",
    "2.0 -|----|----| \n",
    "2.5 -|----|----| \n",
    "3.0 -|----|----| \n",
    "'''"
   ]
  },
  {
   "cell_type": "code",
   "execution_count": 3,
   "metadata": {},
   "outputs": [
    {
     "name": "stdout",
     "output_type": "stream",
     "text": [
      "[[2. 1.]\n",
      " [1. 0.]]\n"
     ]
    }
   ],
   "source": [
    "# 今回はcountを指定したので，どこに何個データがあるかを返している\n",
    "ret = stats.binned_statistic_2d(x, y, None, 'count', bins=[binx, biny])\n",
    "print(ret.statistic)"
   ]
  },
  {
   "cell_type": "markdown",
   "metadata": {},
   "source": [
    "# 算術演算をやってみる\n",
    "\n",
    "> binned_statistic_2d(x, y, values, statistic='mean',bins=10, range=None, expand_binnumbers=False):\n",
    "\n",
    "ここのstatisticにいろいろ突っ込めるらしい．\n",
    "\n",
    "\n",
    "\n",
    "### 平均を求めることができる\n",
    "\n",
    "valuesにx,yの順番に対応したデータ群を突っ込むと，平均を求めることができるらしいぞ．\n",
    "\n",
    "‘mean’ : compute the mean of values for points within each bin. Empty bins will be represented by NaN.\n",
    "\n",
    "\n",
    "### 関数を突っ込むこともできる\n",
    "\n",
    "function : a user-defined function which takes a 1D array of values, and outputs a single numerical statistic. This function will be called on the values in each bin. Empty bins will be represented by function([]), or NaN if this returns an error."
   ]
  },
  {
   "cell_type": "markdown",
   "metadata": {},
   "source": [
    "## 平均を求める"
   ]
  },
  {
   "cell_type": "code",
   "execution_count": 4,
   "metadata": {},
   "outputs": [],
   "source": [
    "# データの存在する座標\n",
    "x = [0.5, 0.3, 0.7]\n",
    "y = [0.5, 0.6, 0.2]\n",
    "\n",
    "# データの持つ値\n",
    "v = [1, 2, 3]\n",
    "\n",
    "# 分割する時のグリッド\n",
    "binx = [0.0, 1.0, 2.0]\n",
    "biny = [0.0, 1.0, 2.0]"
   ]
  },
  {
   "cell_type": "code",
   "execution_count": 5,
   "metadata": {},
   "outputs": [
    {
     "name": "stdout",
     "output_type": "stream",
     "text": [
      "[[ 2. nan]\n",
      " [nan nan]]\n"
     ]
    }
   ],
   "source": [
    "ret = stats.binned_statistic_2d(x, y, v, 'mean', bins=[binx, biny])\n",
    "print(ret.statistic)"
   ]
  }
 ],
 "metadata": {
  "kernelspec": {
   "display_name": "Python 3",
   "language": "python",
   "name": "python3"
  },
  "language_info": {
   "codemirror_mode": {
    "name": "ipython",
    "version": 3
   },
   "file_extension": ".py",
   "mimetype": "text/x-python",
   "name": "python",
   "nbconvert_exporter": "python",
   "pygments_lexer": "ipython3",
   "version": "3.8.5"
  }
 },
 "nbformat": 4,
 "nbformat_minor": 4
}
